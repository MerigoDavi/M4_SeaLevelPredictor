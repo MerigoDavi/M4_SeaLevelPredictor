{
 "cells": [
  {
   "cell_type": "code",
   "execution_count": null,
   "metadata": {},
   "outputs": [],
   "source": [
    "import pandas as pd\n",
    "import matplotlib.pyplot as plt\n",
    "from scipy.stats import linregress\n",
    "\n",
    "def draw_plot():\n",
    "    # Read data from file\n",
    "    df = pd.read_csv('epa-sea-level.csv')\n",
    "    \n",
    "    # Create scatter plot\n",
    "    plt.figure(figsize=(10, 6))\n",
    "    plt.scatter(df['Year'], df['CSIRO Adjusted Sea Level'], label=\"Data\", color='blue')\n",
    "    \n",
    "    # Create first line of best fit for all data\n",
    "    slope, intercept, r_value, p_value, std_err = linregress(df['Year'], df['CSIRO Adjusted Sea Level'])\n",
    "    years_extended = pd.Series(range(1880, 2051))\n",
    "    sea_levels_predicted = intercept + slope * years_extended\n",
    "    plt.plot(years_extended, sea_levels_predicted, label='Best Fit Line (1880-2050)', color='red')\n",
    "    \n",
    "    # Create second line of best fit using data from 2000 onwards\n",
    "    recent_data = df[df['Year'] >= 2000]\n",
    "    slope_recent, intercept_recent, r_value_recent, p_value_recent, std_err_recent = linregress(recent_data['Year'], recent_data['CSIRO Adjusted Sea Level'])\n",
    "    years_recent_extended = pd.Series(range(2000, 2051))\n",
    "    sea_levels_recent_predicted = intercept_recent + slope_recent * years_recent_extended\n",
    "    plt.plot(years_recent_extended, sea_levels_recent_predicted, label='Best Fit Line (2000-2050)', color='green')\n",
    "    \n",
    "    # Add labels and title\n",
    "    plt.xlabel('Year')\n",
    "    plt.ylabel('Sea Level (inches)')\n",
    "    plt.title('Rise in Sea Level')\n",
    "    plt.legend()\n",
    "    \n",
    "    # Save plot and return data for testing (DO NOT MODIFY)\n",
    "    plt.savefig('sea_level_plot.png')\n",
    "    return plt.gca()"
   ]
  }
 ],
 "metadata": {
  "kernelspec": {
   "display_name": "Python 3",
   "language": "python",
   "name": "python3"
  },
  "language_info": {
   "name": "python",
   "version": "3.12.4"
  }
 },
 "nbformat": 4,
 "nbformat_minor": 2
}
